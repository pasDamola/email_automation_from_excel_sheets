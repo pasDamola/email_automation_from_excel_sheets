{
 "cells": [
  {
   "cell_type": "code",
   "execution_count": 95,
   "metadata": {},
   "outputs": [],
   "source": [
    "import csv, time\n",
    "import schedule\n",
    "from datetime import date, datetime"
   ]
  },
  {
   "cell_type": "code",
   "execution_count": 96,
   "metadata": {},
   "outputs": [],
   "source": [
    "# read csv file\n",
    "data = open('log_date.csv', encoding=\"utf-8\")\n",
    "csv_data = csv.reader(data)\n",
    "data_lines = list(csv_data)\n",
    "\n",
    "\n",
    "\n",
    "# select target date, email, control point, audit\n",
    "\n",
    "\n",
    "# send mail to each specific email \n",
    "def convert_to_datetime(date):\n",
    "    datetime_object = datetime.strptime(date, '%m/%d/%Y')\n",
    "    return datetime_object\n"
   ]
  },
  {
   "cell_type": "code",
   "execution_count": 97,
   "metadata": {},
   "outputs": [],
   "source": [
    "def send_mail():\n",
    "    for line in data_lines[1:]:\n",
    "        target_date = convert_to_datetime(line[6])\n",
    "        countdown = target_date - datetime.now()\n",
    "        email_address = line[10].split(';')\n",
    "        control_point = line[2]\n",
    "        audit = line[0]\n",
    "        if line[7] == 'OPEN' and (countdown.days <= 7 and countdown.days > 0):\n",
    "            email_message = 'Good morning All, \\nThis is to remind you of the target date resolution of the {} Exception under {} AUDIT REVIEW.\\n\\n\\033[01m{}\\033[0m \\n\\nInternal Audit Control Log \\nInternal Audit Department' .format(control_point, audit, target_date.strftime(\"%d/%m/%Y\"))\n",
    "            print(email_message)\n",
    "            print('\\n')"
   ]
  },
  {
   "cell_type": "code",
   "execution_count": 99,
   "metadata": {},
   "outputs": [
    {
     "name": "stdout",
     "output_type": "stream",
     "text": [
      "Good morning All, \n",
      "This is to remind you of the target date resolution of the DR TESTS Exception under DISASTER RECOVERY AUDIT REVIEW.\n",
      "\n",
      "\u001b[01m10/12/2020\u001b[0m \n",
      "\n",
      "Internal Audit Control Log \n",
      "Internal Audit Department\n",
      "\n",
      "\n",
      "Good morning All, \n",
      "This is to remind you of the target date resolution of the DR TESTS Exception under DISASTER RECOVERY AUDIT REVIEW.\n",
      "\n",
      "\u001b[01m10/12/2020\u001b[0m \n",
      "\n",
      "Internal Audit Control Log \n",
      "Internal Audit Department\n",
      "\n",
      "\n",
      "Good morning All, \n",
      "This is to remind you of the target date resolution of the BUSINESS CONTINUITY Exception under DISASTER RECOVERY AUDIT REVIEW.\n",
      "\n",
      "\u001b[01m10/12/2020\u001b[0m \n",
      "\n",
      "Internal Audit Control Log \n",
      "Internal Audit Department\n",
      "\n",
      "\n",
      "Good morning All, \n",
      "This is to remind you of the target date resolution of the DR TESTS Exception under DISASTER RECOVERY AUDIT REVIEW.\n",
      "\n",
      "\u001b[01m10/12/2020\u001b[0m \n",
      "\n",
      "Internal Audit Control Log \n",
      "Internal Audit Department\n",
      "\n",
      "\n",
      "Good morning All, \n",
      "This is to remind you of the target date resolution of the DR TESTS Exception under DISASTER RECOVERY AUDIT REVIEW.\n",
      "\n",
      "\u001b[01m10/12/2020\u001b[0m \n",
      "\n",
      "Internal Audit Control Log \n",
      "Internal Audit Department\n",
      "\n",
      "\n",
      "Good morning All, \n",
      "This is to remind you of the target date resolution of the BUSINESS CONTINUITY Exception under DISASTER RECOVERY AUDIT REVIEW.\n",
      "\n",
      "\u001b[01m10/12/2020\u001b[0m \n",
      "\n",
      "Internal Audit Control Log \n",
      "Internal Audit Department\n",
      "\n",
      "\n",
      "Good morning All, \n",
      "This is to remind you of the target date resolution of the DR TESTS Exception under DISASTER RECOVERY AUDIT REVIEW.\n",
      "\n",
      "\u001b[01m10/12/2020\u001b[0m \n",
      "\n",
      "Internal Audit Control Log \n",
      "Internal Audit Department\n",
      "\n",
      "\n",
      "Good morning All, \n",
      "This is to remind you of the target date resolution of the DR TESTS Exception under DISASTER RECOVERY AUDIT REVIEW.\n",
      "\n",
      "\u001b[01m10/12/2020\u001b[0m \n",
      "\n",
      "Internal Audit Control Log \n",
      "Internal Audit Department\n",
      "\n",
      "\n",
      "Good morning All, \n",
      "This is to remind you of the target date resolution of the BUSINESS CONTINUITY Exception under DISASTER RECOVERY AUDIT REVIEW.\n",
      "\n",
      "\u001b[01m10/12/2020\u001b[0m \n",
      "\n",
      "Internal Audit Control Log \n",
      "Internal Audit Department\n",
      "\n",
      "\n"
     ]
    },
    {
     "ename": "KeyboardInterrupt",
     "evalue": "",
     "output_type": "error",
     "traceback": [
      "\u001b[1;31m---------------------------------------------------------------------------\u001b[0m",
      "\u001b[1;31mKeyboardInterrupt\u001b[0m                         Traceback (most recent call last)",
      "\u001b[1;32m<ipython-input-99-7867fcbb495a>\u001b[0m in \u001b[0;36m<module>\u001b[1;34m\u001b[0m\n\u001b[0;32m      3\u001b[0m \u001b[1;32mwhile\u001b[0m \u001b[1;32mTrue\u001b[0m\u001b[1;33m:\u001b[0m\u001b[1;33m\u001b[0m\u001b[1;33m\u001b[0m\u001b[0m\n\u001b[0;32m      4\u001b[0m     \u001b[0mschedule\u001b[0m\u001b[1;33m.\u001b[0m\u001b[0mrun_pending\u001b[0m\u001b[1;33m(\u001b[0m\u001b[1;33m)\u001b[0m\u001b[1;33m\u001b[0m\u001b[1;33m\u001b[0m\u001b[0m\n\u001b[1;32m----> 5\u001b[1;33m     \u001b[0mtime\u001b[0m\u001b[1;33m.\u001b[0m\u001b[0msleep\u001b[0m\u001b[1;33m(\u001b[0m\u001b[1;36m1\u001b[0m\u001b[1;33m)\u001b[0m\u001b[1;33m\u001b[0m\u001b[1;33m\u001b[0m\u001b[0m\n\u001b[0m",
      "\u001b[1;31mKeyboardInterrupt\u001b[0m: "
     ]
    }
   ],
   "source": [
    "schedule.every().day().do(send_mail)\n",
    "\n",
    "while True:\n",
    "    schedule.run_pending()\n",
    "    time.sleep(1)"
   ]
  },
  {
   "cell_type": "code",
   "execution_count": null,
   "metadata": {},
   "outputs": [],
   "source": []
  }
 ],
 "metadata": {
  "kernelspec": {
   "display_name": "Python 3",
   "language": "python",
   "name": "python3"
  },
  "language_info": {
   "codemirror_mode": {
    "name": "ipython",
    "version": 3
   },
   "file_extension": ".py",
   "mimetype": "text/x-python",
   "name": "python",
   "nbconvert_exporter": "python",
   "pygments_lexer": "ipython3",
   "version": "3.8.5"
  }
 },
 "nbformat": 4,
 "nbformat_minor": 4
}
