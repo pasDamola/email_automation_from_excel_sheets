{
 "cells": [
  {
   "cell_type": "code",
   "execution_count": 1,
   "metadata": {},
   "outputs": [],
   "source": [
    "import csv"
   ]
  },
  {
   "cell_type": "code",
   "execution_count": 5,
   "metadata": {},
   "outputs": [],
   "source": [
    "# read csv file\n",
    "data = open('audit_log.csv', encoding=\"utf-8\")\n",
    "csv_data = csv.reader(data)\n",
    "data_lines = list(csv_data)\n",
    "\n",
    "\n",
    "# loop through every row\n",
    "\n",
    "\n",
    "# select target date, email, control point, audit\n",
    "\n",
    "\n",
    "# send mail to each specific email \n"
   ]
  },
  {
   "cell_type": "code",
   "execution_count": 45,
   "metadata": {},
   "outputs": [
    {
     "name": "stdout",
     "output_type": "stream",
     "text": [
      "Good morning All, \n",
      "This is to remind you of the target date resolution of the DR TESTS Exception under DISASTER RECOVERY AUDIT REVIEW.\n",
      "\n",
      "\u001b[01m30 September 2020\u001b[0m \n",
      "\n",
      "Internal Audit Control Log \n",
      "Internal Audit Department\n",
      "\n",
      "\n",
      "Good morning All, \n",
      "This is to remind you of the target date resolution of the DR TESTS Exception under DISASTER RECOVERY AUDIT REVIEW.\n",
      "\n",
      "\u001b[01m30 September 2020\u001b[0m \n",
      "\n",
      "Internal Audit Control Log \n",
      "Internal Audit Department\n",
      "\n",
      "\n",
      "Good morning All, \n",
      "This is to remind you of the target date resolution of the BUSINESS CONTINUITY Exception under DISASTER RECOVERY AUDIT REVIEW.\n",
      "\n",
      "\u001b[01m30 September 2020\u001b[0m \n",
      "\n",
      "Internal Audit Control Log \n",
      "Internal Audit Department\n",
      "\n",
      "\n"
     ]
    }
   ],
   "source": [
    "for line in data_lines[1:]:\n",
    "    target_date = line[6]\n",
    "    email_address = line[10].split(';')\n",
    "    control_point = line[2]\n",
    "    audit = line[0]\n",
    "    email_message = 'Good morning All, \\nThis is to remind you of the target date resolution of the {} Exception under {} AUDIT REVIEW.\\n\\n\\033[01m{}\\033[0m \\n\\nInternal Audit Control Log \\nInternal Audit Department' .format(control_point, audit, target_date)\n",
    "    print(email_message)\n",
    "    print('\\n')"
   ]
  },
  {
   "cell_type": "code",
   "execution_count": 38,
   "metadata": {},
   "outputs": [
    {
     "name": "stdout",
     "output_type": "stream",
     "text": [
      "\u001b[91mError: This is \u001b[1mcyan. \u001b[92mContinue?\n"
     ]
    }
   ],
   "source": [
    "print(f\"\\033[91mError: This is \\033[1mcyan. \\033[92mContinue?\")"
   ]
  },
  {
   "cell_type": "code",
   "execution_count": 27,
   "metadata": {},
   "outputs": [
    {
     "data": {
      "text/plain": [
       "'\\x1b[1mabc\\x1b[0m'"
      ]
     },
     "execution_count": 27,
     "metadata": {},
     "output_type": "execute_result"
    }
   ],
   "source": [
    "a_string = \"abc\"\n",
    "\n",
    "bolded_string = \"\\033[1m\" + a_string + \"\\033[0m\"\n",
    "bolded_string"
   ]
  },
  {
   "cell_type": "code",
   "execution_count": null,
   "metadata": {},
   "outputs": [],
   "source": []
  }
 ],
 "metadata": {
  "kernelspec": {
   "display_name": "Python 3",
   "language": "python",
   "name": "python3"
  },
  "language_info": {
   "codemirror_mode": {
    "name": "ipython",
    "version": 3
   },
   "file_extension": ".py",
   "mimetype": "text/x-python",
   "name": "python",
   "nbconvert_exporter": "python",
   "pygments_lexer": "ipython3",
   "version": "3.8.5"
  }
 },
 "nbformat": 4,
 "nbformat_minor": 4
}
