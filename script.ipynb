{
 "cells": [
  {
   "cell_type": "code",
   "execution_count": 40,
   "metadata": {},
   "outputs": [],
   "source": [
    "import csv\n",
    "import re\n",
    "from datetime import date, time, datetime"
   ]
  },
  {
   "cell_type": "code",
   "execution_count": 42,
   "metadata": {},
   "outputs": [
    {
     "name": "stdout",
     "output_type": "stream",
     "text": [
      "None\n"
     ]
    }
   ],
   "source": [
    "# read csv file\n",
    "data = open('log_date.csv', encoding=\"utf-8\")\n",
    "csv_data = csv.reader(data)\n",
    "data_lines = list(csv_data)\n",
    "\n",
    "\n",
    "# loop through every row\n",
    "\n",
    "\n",
    "# select target date, email, control point, audit\n",
    "\n",
    "\n",
    "# send mail to each specific email \n",
    "def convert_to_datetime(date):\n",
    "    datetime_object = datetime.strptime(date, '%m/%d/%Y')\n",
    "    return datetime_object"
   ]
  },
  {
   "cell_type": "code",
   "execution_count": 45,
   "metadata": {},
   "outputs": [
    {
     "name": "stdout",
     "output_type": "stream",
     "text": [
      "Good morning All, \n",
      "This is to remind you of the target date resolution of the DR TESTS Exception under DISASTER RECOVERY AUDIT REVIEW.\n",
      "\n",
      "\u001b[01m2020-12-10 00:00:00\u001b[0m \n",
      "\n",
      "Internal Audit Control Log \n",
      "Internal Audit Department\n",
      "\n",
      "\n",
      "Good morning All, \n",
      "This is to remind you of the target date resolution of the DR TESTS Exception under DISASTER RECOVERY AUDIT REVIEW.\n",
      "\n",
      "\u001b[01m2020-12-10 00:00:00\u001b[0m \n",
      "\n",
      "Internal Audit Control Log \n",
      "Internal Audit Department\n",
      "\n",
      "\n",
      "Good morning All, \n",
      "This is to remind you of the target date resolution of the BUSINESS CONTINUITY Exception under DISASTER RECOVERY AUDIT REVIEW.\n",
      "\n",
      "\u001b[01m2020-12-10 00:00:00\u001b[0m \n",
      "\n",
      "Internal Audit Control Log \n",
      "Internal Audit Department\n",
      "\n",
      "\n"
     ]
    }
   ],
   "source": [
    "for line in data_lines[1:]:\n",
    "    target_date = convert_to_datetime(line[6])\n",
    "    countdown = target_date - datetime.now()\n",
    "    email_address = line[10].split(';')\n",
    "    control_point = line[2]\n",
    "    audit = line[0]\n",
    "    if line[7] == 'OPEN' and countdown.days <= 7:  \n",
    "        email_message = 'Good morning All, \\nThis is to remind you of the target date resolution of the {} Exception under {} AUDIT REVIEW.\\n\\n\\033[01m{}\\033[0m \\n\\nInternal Audit Control Log \\nInternal Audit Department' .format(control_point, audit, target_date)\n",
    "        print(email_message)\n",
    "        print('\\n')"
   ]
  },
  {
   "cell_type": "code",
   "execution_count": null,
   "metadata": {},
   "outputs": [],
   "source": []
  }
 ],
 "metadata": {
  "kernelspec": {
   "display_name": "Python 3",
   "language": "python",
   "name": "python3"
  },
  "language_info": {
   "codemirror_mode": {
    "name": "ipython",
    "version": 3
   },
   "file_extension": ".py",
   "mimetype": "text/x-python",
   "name": "python",
   "nbconvert_exporter": "python",
   "pygments_lexer": "ipython3",
   "version": "3.8.5"
  }
 },
 "nbformat": 4,
 "nbformat_minor": 4
}
